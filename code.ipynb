{
 "cells": [
  {
   "cell_type": "code",
   "execution_count": null,
   "metadata": {},
   "outputs": [],
   "source": [
    "import json\n",
    "path = 'YOUR_PATH_HERE' # Path to the JSON or text file\n",
    "\n",
    "# Check if the file exists\n",
    "try:\n",
    "    with open(path, 'r') as file:\n",
    "        pass\n",
    "except FileNotFoundError:\n",
    "    print(f\"File '{path}' not found.\")\n",
    "    exit()\n",
    "    \n",
    "# Check if the file is JSON, if not, load the file as a string and make it JSON\n",
    "try:\n",
    "    with open(path, 'r') as file:\n",
    "        data = json.load(file)\n",
    "except json.JSONDecodeError:\n",
    "    with open(path, 'r') as file:\n",
    "        data = file.read()\n",
    "        data = json.loads(data)\n",
    "                \n",
    "# Extract the followers and following lists\n",
    "followers = {user['username'] for user in data['followers']}\n",
    "following = {user['username'] for user in data['followings']}\n",
    "\n",
    "# Find usernames that are in the following list but not in the followers list\n",
    "not_followed_back = following - followers\n",
    "\n",
    "# Output the result\n",
    "print(\"Usernames in 'following' but not in 'followers':\")\n",
    "print(not_followed_back)\n"
   ]
  },
  {
   "cell_type": "code",
   "execution_count": null,
   "metadata": {},
   "outputs": [],
   "source": [
    "for user in not_followed_back:\n",
    "    print(user)"
   ]
  },
  {
   "cell_type": "code",
   "execution_count": null,
   "metadata": {},
   "outputs": [],
   "source": []
  }
 ],
 "metadata": {
  "kernelspec": {
   "display_name": "base",
   "language": "python",
   "name": "python3"
  },
  "language_info": {
   "codemirror_mode": {
    "name": "ipython",
    "version": 3
   },
   "file_extension": ".py",
   "mimetype": "text/x-python",
   "name": "python",
   "nbconvert_exporter": "python",
   "pygments_lexer": "ipython3",
   "version": "3.12.3"
  }
 },
 "nbformat": 4,
 "nbformat_minor": 2
}
